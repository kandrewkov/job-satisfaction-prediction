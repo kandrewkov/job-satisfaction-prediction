{
  "nbformat": 4,
  "nbformat_minor": 0,
  "metadata": {
    "kernelspec": {
      "display_name": "Python 3",
      "language": "python",
      "name": "python3"
    },
    "language_info": {
      "codemirror_mode": {
        "name": "ipython",
        "version": 3
      },
      "file_extension": ".py",
      "mimetype": "text/x-python",
      "name": "python",
      "nbconvert_exporter": "python",
      "pygments_lexer": "ipython3",
      "version": "3.7.1"
    },
    "colab": {
      "name": "main (1).ipynb",
      "provenance": [],
      "toc_visible": true
    }
  },
  "cells": [
    {
      "cell_type": "code",
      "metadata": {
        "id": "Os4H3wc-lKQ7"
      },
      "source": [
        "import pandas as pd"
      ],
      "execution_count": 1,
      "outputs": []
    },
    {
      "cell_type": "code",
      "metadata": {
        "id": "HKARBlsklKRC"
      },
      "source": [
        "df = pd.read_csv(\"Data.csv\")"
      ],
      "execution_count": 2,
      "outputs": []
    },
    {
      "cell_type": "code",
      "metadata": {
        "colab": {
          "base_uri": "https://localhost:8080/",
          "height": 294
        },
        "id": "lhciZ205lKRD",
        "outputId": "57d1b697-93c9-491f-8981-c492aad8eec5"
      },
      "source": [
        "df.head()"
      ],
      "execution_count": 3,
      "outputs": [
        {
          "output_type": "execute_result",
          "data": {
            "text/html": [
              "<div>\n",
              "<style scoped>\n",
              "    .dataframe tbody tr th:only-of-type {\n",
              "        vertical-align: middle;\n",
              "    }\n",
              "\n",
              "    .dataframe tbody tr th {\n",
              "        vertical-align: top;\n",
              "    }\n",
              "\n",
              "    .dataframe thead th {\n",
              "        text-align: right;\n",
              "    }\n",
              "</style>\n",
              "<table border=\"1\" class=\"dataframe\">\n",
              "  <thead>\n",
              "    <tr style=\"text-align: right;\">\n",
              "      <th></th>\n",
              "      <th>Age</th>\n",
              "      <th>Attrition</th>\n",
              "      <th>BusinessTravel</th>\n",
              "      <th>DailyRate</th>\n",
              "      <th>Department</th>\n",
              "      <th>DistanceFromHome</th>\n",
              "      <th>Education</th>\n",
              "      <th>EducationField</th>\n",
              "      <th>EmployeeCount</th>\n",
              "      <th>EmployeeNumber</th>\n",
              "      <th>EnvironmentSatisfaction</th>\n",
              "      <th>Gender</th>\n",
              "      <th>HourlyRate</th>\n",
              "      <th>JobInvolvement</th>\n",
              "      <th>JobLevel</th>\n",
              "      <th>JobRole</th>\n",
              "      <th>JobSatisfaction</th>\n",
              "      <th>MaritalStatus</th>\n",
              "      <th>MonthlyIncome</th>\n",
              "      <th>MonthlyRate</th>\n",
              "      <th>NumCompaniesWorked</th>\n",
              "      <th>Over18</th>\n",
              "      <th>OverTime</th>\n",
              "      <th>PercentSalaryHike</th>\n",
              "      <th>PerformanceRating</th>\n",
              "      <th>RelationshipSatisfaction</th>\n",
              "      <th>StandardHours</th>\n",
              "      <th>StockOptionLevel</th>\n",
              "      <th>TotalWorkingYears</th>\n",
              "      <th>TrainingTimesLastYear</th>\n",
              "      <th>WorkLifeBalance</th>\n",
              "      <th>YearsAtCompany</th>\n",
              "      <th>YearsInCurrentRole</th>\n",
              "      <th>YearsSinceLastPromotion</th>\n",
              "      <th>YearsWithCurrManager</th>\n",
              "    </tr>\n",
              "  </thead>\n",
              "  <tbody>\n",
              "    <tr>\n",
              "      <th>0</th>\n",
              "      <td>41</td>\n",
              "      <td>Yes</td>\n",
              "      <td>Travel_Rarely</td>\n",
              "      <td>1102</td>\n",
              "      <td>Sales</td>\n",
              "      <td>1</td>\n",
              "      <td>2</td>\n",
              "      <td>Life Sciences</td>\n",
              "      <td>1</td>\n",
              "      <td>1</td>\n",
              "      <td>2</td>\n",
              "      <td>Female</td>\n",
              "      <td>94</td>\n",
              "      <td>3</td>\n",
              "      <td>2</td>\n",
              "      <td>Sales Executive</td>\n",
              "      <td>4</td>\n",
              "      <td>Single</td>\n",
              "      <td>5993</td>\n",
              "      <td>19479</td>\n",
              "      <td>8</td>\n",
              "      <td>Y</td>\n",
              "      <td>Yes</td>\n",
              "      <td>11</td>\n",
              "      <td>3</td>\n",
              "      <td>1</td>\n",
              "      <td>80</td>\n",
              "      <td>0</td>\n",
              "      <td>8</td>\n",
              "      <td>0</td>\n",
              "      <td>1</td>\n",
              "      <td>6</td>\n",
              "      <td>4</td>\n",
              "      <td>0</td>\n",
              "      <td>5</td>\n",
              "    </tr>\n",
              "    <tr>\n",
              "      <th>1</th>\n",
              "      <td>49</td>\n",
              "      <td>No</td>\n",
              "      <td>Travel_Frequently</td>\n",
              "      <td>279</td>\n",
              "      <td>Research &amp; Development</td>\n",
              "      <td>8</td>\n",
              "      <td>1</td>\n",
              "      <td>Life Sciences</td>\n",
              "      <td>1</td>\n",
              "      <td>2</td>\n",
              "      <td>3</td>\n",
              "      <td>Male</td>\n",
              "      <td>61</td>\n",
              "      <td>2</td>\n",
              "      <td>2</td>\n",
              "      <td>Research Scientist</td>\n",
              "      <td>2</td>\n",
              "      <td>Married</td>\n",
              "      <td>5130</td>\n",
              "      <td>24907</td>\n",
              "      <td>1</td>\n",
              "      <td>Y</td>\n",
              "      <td>No</td>\n",
              "      <td>23</td>\n",
              "      <td>4</td>\n",
              "      <td>4</td>\n",
              "      <td>80</td>\n",
              "      <td>1</td>\n",
              "      <td>10</td>\n",
              "      <td>3</td>\n",
              "      <td>3</td>\n",
              "      <td>10</td>\n",
              "      <td>7</td>\n",
              "      <td>1</td>\n",
              "      <td>7</td>\n",
              "    </tr>\n",
              "    <tr>\n",
              "      <th>2</th>\n",
              "      <td>37</td>\n",
              "      <td>Yes</td>\n",
              "      <td>Travel_Rarely</td>\n",
              "      <td>1373</td>\n",
              "      <td>Research &amp; Development</td>\n",
              "      <td>2</td>\n",
              "      <td>2</td>\n",
              "      <td>Other</td>\n",
              "      <td>1</td>\n",
              "      <td>4</td>\n",
              "      <td>4</td>\n",
              "      <td>Male</td>\n",
              "      <td>92</td>\n",
              "      <td>2</td>\n",
              "      <td>1</td>\n",
              "      <td>Laboratory Technician</td>\n",
              "      <td>3</td>\n",
              "      <td>Single</td>\n",
              "      <td>2090</td>\n",
              "      <td>2396</td>\n",
              "      <td>6</td>\n",
              "      <td>Y</td>\n",
              "      <td>Yes</td>\n",
              "      <td>15</td>\n",
              "      <td>3</td>\n",
              "      <td>2</td>\n",
              "      <td>80</td>\n",
              "      <td>0</td>\n",
              "      <td>7</td>\n",
              "      <td>3</td>\n",
              "      <td>3</td>\n",
              "      <td>0</td>\n",
              "      <td>0</td>\n",
              "      <td>0</td>\n",
              "      <td>0</td>\n",
              "    </tr>\n",
              "    <tr>\n",
              "      <th>3</th>\n",
              "      <td>33</td>\n",
              "      <td>No</td>\n",
              "      <td>Travel_Frequently</td>\n",
              "      <td>1392</td>\n",
              "      <td>Research &amp; Development</td>\n",
              "      <td>3</td>\n",
              "      <td>4</td>\n",
              "      <td>Life Sciences</td>\n",
              "      <td>1</td>\n",
              "      <td>5</td>\n",
              "      <td>4</td>\n",
              "      <td>Female</td>\n",
              "      <td>56</td>\n",
              "      <td>3</td>\n",
              "      <td>1</td>\n",
              "      <td>Research Scientist</td>\n",
              "      <td>3</td>\n",
              "      <td>Married</td>\n",
              "      <td>2909</td>\n",
              "      <td>23159</td>\n",
              "      <td>1</td>\n",
              "      <td>Y</td>\n",
              "      <td>Yes</td>\n",
              "      <td>11</td>\n",
              "      <td>3</td>\n",
              "      <td>3</td>\n",
              "      <td>80</td>\n",
              "      <td>0</td>\n",
              "      <td>8</td>\n",
              "      <td>3</td>\n",
              "      <td>3</td>\n",
              "      <td>8</td>\n",
              "      <td>7</td>\n",
              "      <td>3</td>\n",
              "      <td>0</td>\n",
              "    </tr>\n",
              "    <tr>\n",
              "      <th>4</th>\n",
              "      <td>27</td>\n",
              "      <td>No</td>\n",
              "      <td>Travel_Rarely</td>\n",
              "      <td>591</td>\n",
              "      <td>Research &amp; Development</td>\n",
              "      <td>2</td>\n",
              "      <td>1</td>\n",
              "      <td>Medical</td>\n",
              "      <td>1</td>\n",
              "      <td>7</td>\n",
              "      <td>1</td>\n",
              "      <td>Male</td>\n",
              "      <td>40</td>\n",
              "      <td>3</td>\n",
              "      <td>1</td>\n",
              "      <td>Laboratory Technician</td>\n",
              "      <td>2</td>\n",
              "      <td>Married</td>\n",
              "      <td>3468</td>\n",
              "      <td>16632</td>\n",
              "      <td>9</td>\n",
              "      <td>Y</td>\n",
              "      <td>No</td>\n",
              "      <td>12</td>\n",
              "      <td>3</td>\n",
              "      <td>4</td>\n",
              "      <td>80</td>\n",
              "      <td>1</td>\n",
              "      <td>6</td>\n",
              "      <td>3</td>\n",
              "      <td>3</td>\n",
              "      <td>2</td>\n",
              "      <td>2</td>\n",
              "      <td>2</td>\n",
              "      <td>2</td>\n",
              "    </tr>\n",
              "  </tbody>\n",
              "</table>\n",
              "</div>"
            ],
            "text/plain": [
              "   Age Attrition  ... YearsSinceLastPromotion  YearsWithCurrManager\n",
              "0   41       Yes  ...                       0                     5\n",
              "1   49        No  ...                       1                     7\n",
              "2   37       Yes  ...                       0                     0\n",
              "3   33        No  ...                       3                     0\n",
              "4   27        No  ...                       2                     2\n",
              "\n",
              "[5 rows x 35 columns]"
            ]
          },
          "metadata": {
            "tags": []
          },
          "execution_count": 3
        }
      ]
    },
    {
      "cell_type": "markdown",
      "metadata": {
        "id": "pBQDVrKklKRE"
      },
      "source": [
        "# 1 Info & preprocessing"
      ]
    },
    {
      "cell_type": "code",
      "metadata": {
        "colab": {
          "base_uri": "https://localhost:8080/"
        },
        "id": "xnEKi3welKRE",
        "outputId": "cd3930a5-80ad-4a5c-ba32-4422fedc648b"
      },
      "source": [
        "df.shape"
      ],
      "execution_count": 4,
      "outputs": [
        {
          "output_type": "execute_result",
          "data": {
            "text/plain": [
              "(1470, 35)"
            ]
          },
          "metadata": {
            "tags": []
          },
          "execution_count": 4
        }
      ]
    },
    {
      "cell_type": "code",
      "metadata": {
        "colab": {
          "base_uri": "https://localhost:8080/"
        },
        "id": "TiXFKY0XlKRF",
        "outputId": "e78d277b-22e5-4c69-865a-afa4c464b13f"
      },
      "source": [
        "df.info()"
      ],
      "execution_count": 5,
      "outputs": [
        {
          "output_type": "stream",
          "text": [
            "<class 'pandas.core.frame.DataFrame'>\n",
            "RangeIndex: 1470 entries, 0 to 1469\n",
            "Data columns (total 35 columns):\n",
            " #   Column                    Non-Null Count  Dtype \n",
            "---  ------                    --------------  ----- \n",
            " 0   Age                       1470 non-null   int64 \n",
            " 1   Attrition                 1470 non-null   object\n",
            " 2   BusinessTravel            1470 non-null   object\n",
            " 3   DailyRate                 1470 non-null   int64 \n",
            " 4   Department                1470 non-null   object\n",
            " 5   DistanceFromHome          1470 non-null   int64 \n",
            " 6   Education                 1470 non-null   int64 \n",
            " 7   EducationField            1470 non-null   object\n",
            " 8   EmployeeCount             1470 non-null   int64 \n",
            " 9   EmployeeNumber            1470 non-null   int64 \n",
            " 10  EnvironmentSatisfaction   1470 non-null   int64 \n",
            " 11  Gender                    1470 non-null   object\n",
            " 12  HourlyRate                1470 non-null   int64 \n",
            " 13  JobInvolvement            1470 non-null   int64 \n",
            " 14  JobLevel                  1470 non-null   int64 \n",
            " 15  JobRole                   1470 non-null   object\n",
            " 16  JobSatisfaction           1470 non-null   int64 \n",
            " 17  MaritalStatus             1470 non-null   object\n",
            " 18  MonthlyIncome             1470 non-null   int64 \n",
            " 19  MonthlyRate               1470 non-null   int64 \n",
            " 20  NumCompaniesWorked        1470 non-null   int64 \n",
            " 21  Over18                    1470 non-null   object\n",
            " 22  OverTime                  1470 non-null   object\n",
            " 23  PercentSalaryHike         1470 non-null   int64 \n",
            " 24  PerformanceRating         1470 non-null   int64 \n",
            " 25  RelationshipSatisfaction  1470 non-null   int64 \n",
            " 26  StandardHours             1470 non-null   int64 \n",
            " 27  StockOptionLevel          1470 non-null   int64 \n",
            " 28  TotalWorkingYears         1470 non-null   int64 \n",
            " 29  TrainingTimesLastYear     1470 non-null   int64 \n",
            " 30  WorkLifeBalance           1470 non-null   int64 \n",
            " 31  YearsAtCompany            1470 non-null   int64 \n",
            " 32  YearsInCurrentRole        1470 non-null   int64 \n",
            " 33  YearsSinceLastPromotion   1470 non-null   int64 \n",
            " 34  YearsWithCurrManager      1470 non-null   int64 \n",
            "dtypes: int64(26), object(9)\n",
            "memory usage: 402.1+ KB\n"
          ],
          "name": "stdout"
        }
      ]
    },
    {
      "cell_type": "code",
      "metadata": {
        "colab": {
          "base_uri": "https://localhost:8080/"
        },
        "id": "UKSkViTKlKRF",
        "outputId": "d51a7d41-879e-4a36-9ab4-d8e6df030ed6"
      },
      "source": [
        "df.dtypes"
      ],
      "execution_count": 6,
      "outputs": [
        {
          "output_type": "execute_result",
          "data": {
            "text/plain": [
              "Age                          int64\n",
              "Attrition                   object\n",
              "BusinessTravel              object\n",
              "DailyRate                    int64\n",
              "Department                  object\n",
              "DistanceFromHome             int64\n",
              "Education                    int64\n",
              "EducationField              object\n",
              "EmployeeCount                int64\n",
              "EmployeeNumber               int64\n",
              "EnvironmentSatisfaction      int64\n",
              "Gender                      object\n",
              "HourlyRate                   int64\n",
              "JobInvolvement               int64\n",
              "JobLevel                     int64\n",
              "JobRole                     object\n",
              "JobSatisfaction              int64\n",
              "MaritalStatus               object\n",
              "MonthlyIncome                int64\n",
              "MonthlyRate                  int64\n",
              "NumCompaniesWorked           int64\n",
              "Over18                      object\n",
              "OverTime                    object\n",
              "PercentSalaryHike            int64\n",
              "PerformanceRating            int64\n",
              "RelationshipSatisfaction     int64\n",
              "StandardHours                int64\n",
              "StockOptionLevel             int64\n",
              "TotalWorkingYears            int64\n",
              "TrainingTimesLastYear        int64\n",
              "WorkLifeBalance              int64\n",
              "YearsAtCompany               int64\n",
              "YearsInCurrentRole           int64\n",
              "YearsSinceLastPromotion      int64\n",
              "YearsWithCurrManager         int64\n",
              "dtype: object"
            ]
          },
          "metadata": {
            "tags": []
          },
          "execution_count": 6
        }
      ]
    },
    {
      "cell_type": "code",
      "metadata": {
        "colab": {
          "base_uri": "https://localhost:8080/",
          "height": 297
        },
        "id": "qL7HMhpBlKRG",
        "outputId": "c73471ad-85e6-48ab-d998-fb80d0cfdf6b"
      },
      "source": [
        "df.describe()"
      ],
      "execution_count": 7,
      "outputs": [
        {
          "output_type": "execute_result",
          "data": {
            "text/html": [
              "<div>\n",
              "<style scoped>\n",
              "    .dataframe tbody tr th:only-of-type {\n",
              "        vertical-align: middle;\n",
              "    }\n",
              "\n",
              "    .dataframe tbody tr th {\n",
              "        vertical-align: top;\n",
              "    }\n",
              "\n",
              "    .dataframe thead th {\n",
              "        text-align: right;\n",
              "    }\n",
              "</style>\n",
              "<table border=\"1\" class=\"dataframe\">\n",
              "  <thead>\n",
              "    <tr style=\"text-align: right;\">\n",
              "      <th></th>\n",
              "      <th>Age</th>\n",
              "      <th>DailyRate</th>\n",
              "      <th>DistanceFromHome</th>\n",
              "      <th>Education</th>\n",
              "      <th>EmployeeCount</th>\n",
              "      <th>EmployeeNumber</th>\n",
              "      <th>EnvironmentSatisfaction</th>\n",
              "      <th>HourlyRate</th>\n",
              "      <th>JobInvolvement</th>\n",
              "      <th>JobLevel</th>\n",
              "      <th>JobSatisfaction</th>\n",
              "      <th>MonthlyIncome</th>\n",
              "      <th>MonthlyRate</th>\n",
              "      <th>NumCompaniesWorked</th>\n",
              "      <th>PercentSalaryHike</th>\n",
              "      <th>PerformanceRating</th>\n",
              "      <th>RelationshipSatisfaction</th>\n",
              "      <th>StandardHours</th>\n",
              "      <th>StockOptionLevel</th>\n",
              "      <th>TotalWorkingYears</th>\n",
              "      <th>TrainingTimesLastYear</th>\n",
              "      <th>WorkLifeBalance</th>\n",
              "      <th>YearsAtCompany</th>\n",
              "      <th>YearsInCurrentRole</th>\n",
              "      <th>YearsSinceLastPromotion</th>\n",
              "      <th>YearsWithCurrManager</th>\n",
              "    </tr>\n",
              "  </thead>\n",
              "  <tbody>\n",
              "    <tr>\n",
              "      <th>count</th>\n",
              "      <td>1470.000000</td>\n",
              "      <td>1470.000000</td>\n",
              "      <td>1470.000000</td>\n",
              "      <td>1470.000000</td>\n",
              "      <td>1470.0</td>\n",
              "      <td>1470.000000</td>\n",
              "      <td>1470.000000</td>\n",
              "      <td>1470.000000</td>\n",
              "      <td>1470.000000</td>\n",
              "      <td>1470.000000</td>\n",
              "      <td>1470.000000</td>\n",
              "      <td>1470.000000</td>\n",
              "      <td>1470.000000</td>\n",
              "      <td>1470.000000</td>\n",
              "      <td>1470.000000</td>\n",
              "      <td>1470.000000</td>\n",
              "      <td>1470.000000</td>\n",
              "      <td>1470.0</td>\n",
              "      <td>1470.000000</td>\n",
              "      <td>1470.000000</td>\n",
              "      <td>1470.000000</td>\n",
              "      <td>1470.000000</td>\n",
              "      <td>1470.000000</td>\n",
              "      <td>1470.000000</td>\n",
              "      <td>1470.000000</td>\n",
              "      <td>1470.000000</td>\n",
              "    </tr>\n",
              "    <tr>\n",
              "      <th>mean</th>\n",
              "      <td>36.923810</td>\n",
              "      <td>802.485714</td>\n",
              "      <td>9.192517</td>\n",
              "      <td>2.912925</td>\n",
              "      <td>1.0</td>\n",
              "      <td>1024.865306</td>\n",
              "      <td>2.721769</td>\n",
              "      <td>65.891156</td>\n",
              "      <td>2.729932</td>\n",
              "      <td>2.063946</td>\n",
              "      <td>2.728571</td>\n",
              "      <td>6502.931293</td>\n",
              "      <td>14313.103401</td>\n",
              "      <td>2.693197</td>\n",
              "      <td>15.209524</td>\n",
              "      <td>3.153741</td>\n",
              "      <td>2.712245</td>\n",
              "      <td>80.0</td>\n",
              "      <td>0.793878</td>\n",
              "      <td>11.279592</td>\n",
              "      <td>2.799320</td>\n",
              "      <td>2.761224</td>\n",
              "      <td>7.008163</td>\n",
              "      <td>4.229252</td>\n",
              "      <td>2.187755</td>\n",
              "      <td>4.123129</td>\n",
              "    </tr>\n",
              "    <tr>\n",
              "      <th>std</th>\n",
              "      <td>9.135373</td>\n",
              "      <td>403.509100</td>\n",
              "      <td>8.106864</td>\n",
              "      <td>1.024165</td>\n",
              "      <td>0.0</td>\n",
              "      <td>602.024335</td>\n",
              "      <td>1.093082</td>\n",
              "      <td>20.329428</td>\n",
              "      <td>0.711561</td>\n",
              "      <td>1.106940</td>\n",
              "      <td>1.102846</td>\n",
              "      <td>4707.956783</td>\n",
              "      <td>7117.786044</td>\n",
              "      <td>2.498009</td>\n",
              "      <td>3.659938</td>\n",
              "      <td>0.360824</td>\n",
              "      <td>1.081209</td>\n",
              "      <td>0.0</td>\n",
              "      <td>0.852077</td>\n",
              "      <td>7.780782</td>\n",
              "      <td>1.289271</td>\n",
              "      <td>0.706476</td>\n",
              "      <td>6.126525</td>\n",
              "      <td>3.623137</td>\n",
              "      <td>3.222430</td>\n",
              "      <td>3.568136</td>\n",
              "    </tr>\n",
              "    <tr>\n",
              "      <th>min</th>\n",
              "      <td>18.000000</td>\n",
              "      <td>102.000000</td>\n",
              "      <td>1.000000</td>\n",
              "      <td>1.000000</td>\n",
              "      <td>1.0</td>\n",
              "      <td>1.000000</td>\n",
              "      <td>1.000000</td>\n",
              "      <td>30.000000</td>\n",
              "      <td>1.000000</td>\n",
              "      <td>1.000000</td>\n",
              "      <td>1.000000</td>\n",
              "      <td>1009.000000</td>\n",
              "      <td>2094.000000</td>\n",
              "      <td>0.000000</td>\n",
              "      <td>11.000000</td>\n",
              "      <td>3.000000</td>\n",
              "      <td>1.000000</td>\n",
              "      <td>80.0</td>\n",
              "      <td>0.000000</td>\n",
              "      <td>0.000000</td>\n",
              "      <td>0.000000</td>\n",
              "      <td>1.000000</td>\n",
              "      <td>0.000000</td>\n",
              "      <td>0.000000</td>\n",
              "      <td>0.000000</td>\n",
              "      <td>0.000000</td>\n",
              "    </tr>\n",
              "    <tr>\n",
              "      <th>25%</th>\n",
              "      <td>30.000000</td>\n",
              "      <td>465.000000</td>\n",
              "      <td>2.000000</td>\n",
              "      <td>2.000000</td>\n",
              "      <td>1.0</td>\n",
              "      <td>491.250000</td>\n",
              "      <td>2.000000</td>\n",
              "      <td>48.000000</td>\n",
              "      <td>2.000000</td>\n",
              "      <td>1.000000</td>\n",
              "      <td>2.000000</td>\n",
              "      <td>2911.000000</td>\n",
              "      <td>8047.000000</td>\n",
              "      <td>1.000000</td>\n",
              "      <td>12.000000</td>\n",
              "      <td>3.000000</td>\n",
              "      <td>2.000000</td>\n",
              "      <td>80.0</td>\n",
              "      <td>0.000000</td>\n",
              "      <td>6.000000</td>\n",
              "      <td>2.000000</td>\n",
              "      <td>2.000000</td>\n",
              "      <td>3.000000</td>\n",
              "      <td>2.000000</td>\n",
              "      <td>0.000000</td>\n",
              "      <td>2.000000</td>\n",
              "    </tr>\n",
              "    <tr>\n",
              "      <th>50%</th>\n",
              "      <td>36.000000</td>\n",
              "      <td>802.000000</td>\n",
              "      <td>7.000000</td>\n",
              "      <td>3.000000</td>\n",
              "      <td>1.0</td>\n",
              "      <td>1020.500000</td>\n",
              "      <td>3.000000</td>\n",
              "      <td>66.000000</td>\n",
              "      <td>3.000000</td>\n",
              "      <td>2.000000</td>\n",
              "      <td>3.000000</td>\n",
              "      <td>4919.000000</td>\n",
              "      <td>14235.500000</td>\n",
              "      <td>2.000000</td>\n",
              "      <td>14.000000</td>\n",
              "      <td>3.000000</td>\n",
              "      <td>3.000000</td>\n",
              "      <td>80.0</td>\n",
              "      <td>1.000000</td>\n",
              "      <td>10.000000</td>\n",
              "      <td>3.000000</td>\n",
              "      <td>3.000000</td>\n",
              "      <td>5.000000</td>\n",
              "      <td>3.000000</td>\n",
              "      <td>1.000000</td>\n",
              "      <td>3.000000</td>\n",
              "    </tr>\n",
              "    <tr>\n",
              "      <th>75%</th>\n",
              "      <td>43.000000</td>\n",
              "      <td>1157.000000</td>\n",
              "      <td>14.000000</td>\n",
              "      <td>4.000000</td>\n",
              "      <td>1.0</td>\n",
              "      <td>1555.750000</td>\n",
              "      <td>4.000000</td>\n",
              "      <td>83.750000</td>\n",
              "      <td>3.000000</td>\n",
              "      <td>3.000000</td>\n",
              "      <td>4.000000</td>\n",
              "      <td>8379.000000</td>\n",
              "      <td>20461.500000</td>\n",
              "      <td>4.000000</td>\n",
              "      <td>18.000000</td>\n",
              "      <td>3.000000</td>\n",
              "      <td>4.000000</td>\n",
              "      <td>80.0</td>\n",
              "      <td>1.000000</td>\n",
              "      <td>15.000000</td>\n",
              "      <td>3.000000</td>\n",
              "      <td>3.000000</td>\n",
              "      <td>9.000000</td>\n",
              "      <td>7.000000</td>\n",
              "      <td>3.000000</td>\n",
              "      <td>7.000000</td>\n",
              "    </tr>\n",
              "    <tr>\n",
              "      <th>max</th>\n",
              "      <td>60.000000</td>\n",
              "      <td>1499.000000</td>\n",
              "      <td>29.000000</td>\n",
              "      <td>5.000000</td>\n",
              "      <td>1.0</td>\n",
              "      <td>2068.000000</td>\n",
              "      <td>4.000000</td>\n",
              "      <td>100.000000</td>\n",
              "      <td>4.000000</td>\n",
              "      <td>5.000000</td>\n",
              "      <td>4.000000</td>\n",
              "      <td>19999.000000</td>\n",
              "      <td>26999.000000</td>\n",
              "      <td>9.000000</td>\n",
              "      <td>25.000000</td>\n",
              "      <td>4.000000</td>\n",
              "      <td>4.000000</td>\n",
              "      <td>80.0</td>\n",
              "      <td>3.000000</td>\n",
              "      <td>40.000000</td>\n",
              "      <td>6.000000</td>\n",
              "      <td>4.000000</td>\n",
              "      <td>40.000000</td>\n",
              "      <td>18.000000</td>\n",
              "      <td>15.000000</td>\n",
              "      <td>17.000000</td>\n",
              "    </tr>\n",
              "  </tbody>\n",
              "</table>\n",
              "</div>"
            ],
            "text/plain": [
              "               Age    DailyRate  ...  YearsSinceLastPromotion  YearsWithCurrManager\n",
              "count  1470.000000  1470.000000  ...              1470.000000           1470.000000\n",
              "mean     36.923810   802.485714  ...                 2.187755              4.123129\n",
              "std       9.135373   403.509100  ...                 3.222430              3.568136\n",
              "min      18.000000   102.000000  ...                 0.000000              0.000000\n",
              "25%      30.000000   465.000000  ...                 0.000000              2.000000\n",
              "50%      36.000000   802.000000  ...                 1.000000              3.000000\n",
              "75%      43.000000  1157.000000  ...                 3.000000              7.000000\n",
              "max      60.000000  1499.000000  ...                15.000000             17.000000\n",
              "\n",
              "[8 rows x 26 columns]"
            ]
          },
          "metadata": {
            "tags": []
          },
          "execution_count": 7
        }
      ]
    },
    {
      "cell_type": "code",
      "metadata": {
        "colab": {
          "base_uri": "https://localhost:8080/"
        },
        "id": "FMphEUt0lKRG",
        "outputId": "58fb2d4c-c292-4b01-b6fa-5dc0b2c4d82d"
      },
      "source": [
        "df.columns"
      ],
      "execution_count": 8,
      "outputs": [
        {
          "output_type": "execute_result",
          "data": {
            "text/plain": [
              "Index(['Age', 'Attrition', 'BusinessTravel', 'DailyRate', 'Department',\n",
              "       'DistanceFromHome', 'Education', 'EducationField', 'EmployeeCount',\n",
              "       'EmployeeNumber', 'EnvironmentSatisfaction', 'Gender', 'HourlyRate',\n",
              "       'JobInvolvement', 'JobLevel', 'JobRole', 'JobSatisfaction',\n",
              "       'MaritalStatus', 'MonthlyIncome', 'MonthlyRate', 'NumCompaniesWorked',\n",
              "       'Over18', 'OverTime', 'PercentSalaryHike', 'PerformanceRating',\n",
              "       'RelationshipSatisfaction', 'StandardHours', 'StockOptionLevel',\n",
              "       'TotalWorkingYears', 'TrainingTimesLastYear', 'WorkLifeBalance',\n",
              "       'YearsAtCompany', 'YearsInCurrentRole', 'YearsSinceLastPromotion',\n",
              "       'YearsWithCurrManager'],\n",
              "      dtype='object')"
            ]
          },
          "metadata": {
            "tags": []
          },
          "execution_count": 8
        }
      ]
    },
    {
      "cell_type": "code",
      "metadata": {
        "colab": {
          "base_uri": "https://localhost:8080/"
        },
        "id": "1PZOtGiqlKRG",
        "outputId": "f3a30070-aac0-478e-86e9-c72c6e401ed2"
      },
      "source": [
        "for feature in df.columns:\n",
        "    if len(df[feature].unique()) == 1:\n",
        "        print(\"will drop\", feature)\n",
        "        df.drop([feature], axis='columns', inplace=True)\n",
        "# df.drop(['Gender','PerformanceRating', 'StockOptionLevel','EnvironmentSatisfaction','JobInvolvement','OverTime'], axis='columns', inplace=True)"
      ],
      "execution_count": 9,
      "outputs": [
        {
          "output_type": "stream",
          "text": [
            "will drop EmployeeCount\n",
            "will drop Over18\n",
            "will drop StandardHours\n"
          ],
          "name": "stdout"
        }
      ]
    },
    {
      "cell_type": "code",
      "metadata": {
        "scrolled": true,
        "id": "7xL9MnZ0lKRH"
      },
      "source": [
        "# Заменили значения удолетворенности работой булевым \n",
        "df.loc[df['JobSatisfaction'] <= 2, 'JobSatisfaction'] = 0\n",
        "df.loc[df['JobSatisfaction'] > 2, 'JobSatisfaction'] = 1"
      ],
      "execution_count": 10,
      "outputs": []
    },
    {
      "cell_type": "markdown",
      "metadata": {
        "id": "5CdDdMfnlKRH"
      },
      "source": [
        "# 2 LogisticRegression "
      ]
    },
    {
      "cell_type": "markdown",
      "metadata": {
        "id": "vBrglt0GlKRH"
      },
      "source": [
        "Тип задачи: кластеризации \n",
        "(удолетворен / неудолетворен)"
      ]
    },
    {
      "cell_type": "code",
      "metadata": {
        "id": "ijnFBIVklKRI"
      },
      "source": [
        "from sklearn.model_selection import KFold\n",
        "from sklearn.linear_model import LogisticRegression\n",
        "from sklearn.model_selection import train_test_split\n",
        "import sklearn.metrics\n",
        "import numpy as np"
      ],
      "execution_count": 11,
      "outputs": []
    },
    {
      "cell_type": "code",
      "metadata": {
        "id": "WdbfBSq9lKRI"
      },
      "source": [
        "y = df['JobSatisfaction']\n",
        "X = df\n",
        "X.drop(['JobSatisfaction'], axis='columns', inplace=True)"
      ],
      "execution_count": 12,
      "outputs": []
    },
    {
      "cell_type": "code",
      "metadata": {
        "colab": {
          "base_uri": "https://localhost:8080/"
        },
        "id": "uMkvT5mdlKRI",
        "outputId": "00de478a-dd01-478a-83da-881f5ab69939"
      },
      "source": [
        "X.shape"
      ],
      "execution_count": 13,
      "outputs": [
        {
          "output_type": "execute_result",
          "data": {
            "text/plain": [
              "(1470, 31)"
            ]
          },
          "metadata": {
            "tags": []
          },
          "execution_count": 13
        }
      ]
    },
    {
      "cell_type": "code",
      "metadata": {
        "id": "4nH7yzDwlKRI"
      },
      "source": [
        "# столбцы со строковыми значениями  \n",
        "obj_f = ['Attrition',  'BusinessTravel', 'Department', 'EducationField', 'Gender', \n",
        "         'JobRole', 'MaritalStatus', 'OverTime']      "
      ],
      "execution_count": 14,
      "outputs": []
    },
    {
      "cell_type": "code",
      "metadata": {
        "colab": {
          "base_uri": "https://localhost:8080/"
        },
        "id": "94Njthk2lKRJ",
        "outputId": "4000bf6b-3758-4a77-dc56-855de0e0b9e0"
      },
      "source": [
        "for feature in obj_f:\n",
        "    print(feature, df[feature].unique())"
      ],
      "execution_count": 15,
      "outputs": [
        {
          "output_type": "stream",
          "text": [
            "Attrition ['Yes' 'No']\n",
            "BusinessTravel ['Travel_Rarely' 'Travel_Frequently' 'Non-Travel']\n",
            "Department ['Sales' 'Research & Development' 'Human Resources']\n",
            "EducationField ['Life Sciences' 'Other' 'Medical' 'Marketing' 'Technical Degree'\n",
            " 'Human Resources']\n",
            "Gender ['Female' 'Male']\n",
            "JobRole ['Sales Executive' 'Research Scientist' 'Laboratory Technician'\n",
            " 'Manufacturing Director' 'Healthcare Representative' 'Manager'\n",
            " 'Sales Representative' 'Research Director' 'Human Resources']\n",
            "MaritalStatus ['Single' 'Married' 'Divorced']\n",
            "OverTime ['Yes' 'No']\n"
          ],
          "name": "stdout"
        }
      ]
    },
    {
      "cell_type": "code",
      "metadata": {
        "id": "DFZ0dMXzlKRJ"
      },
      "source": [
        "d = {'Yes': 1, 'No' : 0, \n",
        "     'Travel_Rarely':1, 'Travel_Frequently':2, 'Non-Travel':0,\n",
        "     'Female':0, 'Male':1,\n",
        "     'Single':0, 'Married':1, 'Divorced':2,\n",
        "     'Life Sciences':5, 'Other':4, 'Medical':3, 'Marketing':2, 'Technical Degree':1, \"Human Resources\":0,\n",
        "     'Sales':2, 'Research & Development':1,\n",
        "    'Sales Executive':7, 'Research Scientist':6, 'Laboratory Technician':5, 'Manufacturing Director':4, \n",
        "     'Healthcare Representative':3, 'Manager':3, 'Sales Representative':2, 'Research Director':1\n",
        "    }"
      ],
      "execution_count": 16,
      "outputs": []
    },
    {
      "cell_type": "code",
      "metadata": {
        "id": "q3kknqJ1lKRJ"
      },
      "source": [
        "# Замена строковых на числовые\n",
        "for feature in obj_f:\n",
        "    X[feature] = X[feature].apply(lambda x: d[x])"
      ],
      "execution_count": 17,
      "outputs": []
    },
    {
      "cell_type": "code",
      "metadata": {
        "id": "STsnge7ZlKRJ"
      },
      "source": [
        "X_train, X_test, y_train, y_test = train_test_split(X,y, shuffle=True, stratify=y, test_size=0.2)"
      ],
      "execution_count": 18,
      "outputs": []
    },
    {
      "cell_type": "code",
      "metadata": {
        "colab": {
          "base_uri": "https://localhost:8080/"
        },
        "id": "Hu7uJ6OIlKRK",
        "outputId": "254c7eb4-c6ed-4819-f142-9563860d0c4b"
      },
      "source": [
        "clf_logreg = LogisticRegression()\n",
        "clf_logreg.fit(X_train, y_train)\n",
        "clf_logreg.coef_\n",
        "# coef-ты:\n",
        "# модуль коэффицента показывает, насоклько он важен для классификации. \n",
        "# знак показывает.."
      ],
      "execution_count": 19,
      "outputs": [
        {
          "output_type": "stream",
          "text": [
            "/usr/local/lib/python3.6/dist-packages/sklearn/linear_model/_logistic.py:940: ConvergenceWarning: lbfgs failed to converge (status=1):\n",
            "STOP: TOTAL NO. of ITERATIONS REACHED LIMIT.\n",
            "\n",
            "Increase the number of iterations (max_iter) or scale the data as shown in:\n",
            "    https://scikit-learn.org/stable/modules/preprocessing.html\n",
            "Please also refer to the documentation for alternative solver options:\n",
            "    https://scikit-learn.org/stable/modules/linear_model.html#logistic-regression\n",
            "  extra_warning_msg=_LOGISTIC_SOLVER_CONVERGENCE_MSG)\n"
          ],
          "name": "stderr"
        },
        {
          "output_type": "execute_result",
          "data": {
            "text/plain": [
              "array([[ 9.10941532e-03, -1.64361471e-03,  1.91035308e-03,\n",
              "         2.49998963e-04,  2.39812855e-03,  8.90759721e-05,\n",
              "         8.33338561e-04,  1.08468350e-02,  1.80282252e-05,\n",
              "        -1.48169677e-03,  2.19428547e-03, -4.29337181e-03,\n",
              "         6.24088054e-04,  5.97230238e-04,  7.08579050e-03,\n",
              "        -1.20893852e-03,  2.80406396e-05, -3.85669772e-07,\n",
              "        -9.39116956e-03,  7.47085191e-04,  1.65007245e-02,\n",
              "         2.02323118e-03, -5.81715672e-04, -1.40035708e-03,\n",
              "        -1.79184118e-02,  2.85418390e-03,  1.57837772e-03,\n",
              "        -5.80432525e-03, -3.14198466e-03, -8.46746069e-03,\n",
              "        -8.77057172e-03]])"
            ]
          },
          "metadata": {
            "tags": []
          },
          "execution_count": 19
        }
      ]
    },
    {
      "cell_type": "code",
      "metadata": {
        "collapsed": true,
        "colab": {
          "base_uri": "https://localhost:8080/"
        },
        "id": "57xjKp_VlKRK",
        "outputId": "97a3ff60-26d4-465c-831c-522cf148889b"
      },
      "source": [
        "clf_logreg.predict_proba(X_test)"
      ],
      "execution_count": 20,
      "outputs": [
        {
          "output_type": "execute_result",
          "data": {
            "text/plain": [
              "array([[0.3307968 , 0.6692032 ],\n",
              "       [0.34624967, 0.65375033],\n",
              "       [0.3363033 , 0.6636967 ],\n",
              "       [0.35614938, 0.64385062],\n",
              "       [0.4484609 , 0.5515391 ],\n",
              "       [0.47551023, 0.52448977],\n",
              "       [0.41250027, 0.58749973],\n",
              "       [0.33006255, 0.66993745],\n",
              "       [0.35253238, 0.64746762],\n",
              "       [0.44827224, 0.55172776],\n",
              "       [0.4365567 , 0.5634433 ],\n",
              "       [0.35784059, 0.64215941],\n",
              "       [0.37761719, 0.62238281],\n",
              "       [0.33953909, 0.66046091],\n",
              "       [0.37582958, 0.62417042],\n",
              "       [0.3746415 , 0.6253585 ],\n",
              "       [0.34578549, 0.65421451],\n",
              "       [0.36554345, 0.63445655],\n",
              "       [0.41888137, 0.58111863],\n",
              "       [0.37567888, 0.62432112],\n",
              "       [0.35900913, 0.64099087],\n",
              "       [0.41324343, 0.58675657],\n",
              "       [0.51112172, 0.48887828],\n",
              "       [0.39437513, 0.60562487],\n",
              "       [0.32778251, 0.67221749],\n",
              "       [0.39436914, 0.60563086],\n",
              "       [0.40620322, 0.59379678],\n",
              "       [0.41510801, 0.58489199],\n",
              "       [0.3899771 , 0.6100229 ],\n",
              "       [0.37773146, 0.62226854],\n",
              "       [0.40016328, 0.59983672],\n",
              "       [0.37670866, 0.62329134],\n",
              "       [0.4563096 , 0.5436904 ],\n",
              "       [0.37153218, 0.62846782],\n",
              "       [0.42371951, 0.57628049],\n",
              "       [0.37155002, 0.62844998],\n",
              "       [0.40303811, 0.59696189],\n",
              "       [0.31213645, 0.68786355],\n",
              "       [0.40293285, 0.59706715],\n",
              "       [0.37385732, 0.62614268],\n",
              "       [0.43690093, 0.56309907],\n",
              "       [0.3292705 , 0.6707295 ],\n",
              "       [0.34004186, 0.65995814],\n",
              "       [0.41402015, 0.58597985],\n",
              "       [0.4268352 , 0.5731648 ],\n",
              "       [0.3675155 , 0.6324845 ],\n",
              "       [0.4473442 , 0.5526558 ],\n",
              "       [0.358809  , 0.641191  ],\n",
              "       [0.35691747, 0.64308253],\n",
              "       [0.4597172 , 0.5402828 ],\n",
              "       [0.40346484, 0.59653516],\n",
              "       [0.38991502, 0.61008498],\n",
              "       [0.37972622, 0.62027378],\n",
              "       [0.34874501, 0.65125499],\n",
              "       [0.3521656 , 0.6478344 ],\n",
              "       [0.40420939, 0.59579061],\n",
              "       [0.44170424, 0.55829576],\n",
              "       [0.27768946, 0.72231054],\n",
              "       [0.37744815, 0.62255185],\n",
              "       [0.35916449, 0.64083551],\n",
              "       [0.4138128 , 0.5861872 ],\n",
              "       [0.35325741, 0.64674259],\n",
              "       [0.33582331, 0.66417669],\n",
              "       [0.36411326, 0.63588674],\n",
              "       [0.34054291, 0.65945709],\n",
              "       [0.40848547, 0.59151453],\n",
              "       [0.33544108, 0.66455892],\n",
              "       [0.47977271, 0.52022729],\n",
              "       [0.36149369, 0.63850631],\n",
              "       [0.36350087, 0.63649913],\n",
              "       [0.39001517, 0.60998483],\n",
              "       [0.40909525, 0.59090475],\n",
              "       [0.43582447, 0.56417553],\n",
              "       [0.37207181, 0.62792819],\n",
              "       [0.45784702, 0.54215298],\n",
              "       [0.34952788, 0.65047212],\n",
              "       [0.44621641, 0.55378359],\n",
              "       [0.29047104, 0.70952896],\n",
              "       [0.37249834, 0.62750166],\n",
              "       [0.37486782, 0.62513218],\n",
              "       [0.41423088, 0.58576912],\n",
              "       [0.41378323, 0.58621677],\n",
              "       [0.41661309, 0.58338691],\n",
              "       [0.35678205, 0.64321795],\n",
              "       [0.34772094, 0.65227906],\n",
              "       [0.44255423, 0.55744577],\n",
              "       [0.44548754, 0.55451246],\n",
              "       [0.41122472, 0.58877528],\n",
              "       [0.39514653, 0.60485347],\n",
              "       [0.33271987, 0.66728013],\n",
              "       [0.40013012, 0.59986988],\n",
              "       [0.31861408, 0.68138592],\n",
              "       [0.39623021, 0.60376979],\n",
              "       [0.38585243, 0.61414757],\n",
              "       [0.40977314, 0.59022686],\n",
              "       [0.34154328, 0.65845672],\n",
              "       [0.38532824, 0.61467176],\n",
              "       [0.4034726 , 0.5965274 ],\n",
              "       [0.38116919, 0.61883081],\n",
              "       [0.47943074, 0.52056926],\n",
              "       [0.45658322, 0.54341678],\n",
              "       [0.60960965, 0.39039035],\n",
              "       [0.39694548, 0.60305452],\n",
              "       [0.39782341, 0.60217659],\n",
              "       [0.40119663, 0.59880337],\n",
              "       [0.3706395 , 0.6293605 ],\n",
              "       [0.39328769, 0.60671231],\n",
              "       [0.38190193, 0.61809807],\n",
              "       [0.41582822, 0.58417178],\n",
              "       [0.39172233, 0.60827767],\n",
              "       [0.44836504, 0.55163496],\n",
              "       [0.31908475, 0.68091525],\n",
              "       [0.4469813 , 0.5530187 ],\n",
              "       [0.43478754, 0.56521246],\n",
              "       [0.2885432 , 0.7114568 ],\n",
              "       [0.35709651, 0.64290349],\n",
              "       [0.34113921, 0.65886079],\n",
              "       [0.28417241, 0.71582759],\n",
              "       [0.38369104, 0.61630896],\n",
              "       [0.42751386, 0.57248614],\n",
              "       [0.38407709, 0.61592291],\n",
              "       [0.40464723, 0.59535277],\n",
              "       [0.42708926, 0.57291074],\n",
              "       [0.47146057, 0.52853943],\n",
              "       [0.34562318, 0.65437682],\n",
              "       [0.41339736, 0.58660264],\n",
              "       [0.36475774, 0.63524226],\n",
              "       [0.37452944, 0.62547056],\n",
              "       [0.33728111, 0.66271889],\n",
              "       [0.37928044, 0.62071956],\n",
              "       [0.39183134, 0.60816866],\n",
              "       [0.32150379, 0.67849621],\n",
              "       [0.37898983, 0.62101017],\n",
              "       [0.41555155, 0.58444845],\n",
              "       [0.35853643, 0.64146357],\n",
              "       [0.37147355, 0.62852645],\n",
              "       [0.34308452, 0.65691548],\n",
              "       [0.32967347, 0.67032653],\n",
              "       [0.39452507, 0.60547493],\n",
              "       [0.43231335, 0.56768665],\n",
              "       [0.38602905, 0.61397095],\n",
              "       [0.38972619, 0.61027381],\n",
              "       [0.3840672 , 0.6159328 ],\n",
              "       [0.33827441, 0.66172559],\n",
              "       [0.46317768, 0.53682232],\n",
              "       [0.35860488, 0.64139512],\n",
              "       [0.42712414, 0.57287586],\n",
              "       [0.44527914, 0.55472086],\n",
              "       [0.34314546, 0.65685454],\n",
              "       [0.38584693, 0.61415307],\n",
              "       [0.45606553, 0.54393447],\n",
              "       [0.40289453, 0.59710547],\n",
              "       [0.40108872, 0.59891128],\n",
              "       [0.31617218, 0.68382782],\n",
              "       [0.41036806, 0.58963194],\n",
              "       [0.37442197, 0.62557803],\n",
              "       [0.34216436, 0.65783564],\n",
              "       [0.4190022 , 0.5809978 ],\n",
              "       [0.39330866, 0.60669134],\n",
              "       [0.44105649, 0.55894351],\n",
              "       [0.30188371, 0.69811629],\n",
              "       [0.38661757, 0.61338243],\n",
              "       [0.42111998, 0.57888002],\n",
              "       [0.32226157, 0.67773843],\n",
              "       [0.37395753, 0.62604247],\n",
              "       [0.40473163, 0.59526837],\n",
              "       [0.37607088, 0.62392912],\n",
              "       [0.29127884, 0.70872116],\n",
              "       [0.34188955, 0.65811045],\n",
              "       [0.36548747, 0.63451253],\n",
              "       [0.3668857 , 0.6331143 ],\n",
              "       [0.43103223, 0.56896777],\n",
              "       [0.38116738, 0.61883262],\n",
              "       [0.34942752, 0.65057248],\n",
              "       [0.39185692, 0.60814308],\n",
              "       [0.43427125, 0.56572875],\n",
              "       [0.25832046, 0.74167954],\n",
              "       [0.47991777, 0.52008223],\n",
              "       [0.38114716, 0.61885284],\n",
              "       [0.43247113, 0.56752887],\n",
              "       [0.39922834, 0.60077166],\n",
              "       [0.3736318 , 0.6263682 ],\n",
              "       [0.35452726, 0.64547274],\n",
              "       [0.41853254, 0.58146746],\n",
              "       [0.35511955, 0.64488045],\n",
              "       [0.36491596, 0.63508404],\n",
              "       [0.30905239, 0.69094761],\n",
              "       [0.40079776, 0.59920224],\n",
              "       [0.34636925, 0.65363075],\n",
              "       [0.4413538 , 0.5586462 ],\n",
              "       [0.41691511, 0.58308489],\n",
              "       [0.40273805, 0.59726195],\n",
              "       [0.47543926, 0.52456074],\n",
              "       [0.34527227, 0.65472773],\n",
              "       [0.38949849, 0.61050151],\n",
              "       [0.37799053, 0.62200947],\n",
              "       [0.3666533 , 0.6333467 ],\n",
              "       [0.43646694, 0.56353306],\n",
              "       [0.44038229, 0.55961771],\n",
              "       [0.30871648, 0.69128352],\n",
              "       [0.2798989 , 0.7201011 ],\n",
              "       [0.39327568, 0.60672432],\n",
              "       [0.41200009, 0.58799991],\n",
              "       [0.43012562, 0.56987438],\n",
              "       [0.37740558, 0.62259442],\n",
              "       [0.37448414, 0.62551586],\n",
              "       [0.31650826, 0.68349174],\n",
              "       [0.43992559, 0.56007441],\n",
              "       [0.34128854, 0.65871146],\n",
              "       [0.37952494, 0.62047506],\n",
              "       [0.38048458, 0.61951542],\n",
              "       [0.3895583 , 0.6104417 ],\n",
              "       [0.40166514, 0.59833486],\n",
              "       [0.37091542, 0.62908458],\n",
              "       [0.35344305, 0.64655695],\n",
              "       [0.39794884, 0.60205116],\n",
              "       [0.31950812, 0.68049188],\n",
              "       [0.39098997, 0.60901003],\n",
              "       [0.32838859, 0.67161141],\n",
              "       [0.36085654, 0.63914346],\n",
              "       [0.30452066, 0.69547934],\n",
              "       [0.39358996, 0.60641004],\n",
              "       [0.47234476, 0.52765524],\n",
              "       [0.33128632, 0.66871368],\n",
              "       [0.36407077, 0.63592923],\n",
              "       [0.40279723, 0.59720277],\n",
              "       [0.34925992, 0.65074008],\n",
              "       [0.3629864 , 0.6370136 ],\n",
              "       [0.41517942, 0.58482058],\n",
              "       [0.40405967, 0.59594033],\n",
              "       [0.47291859, 0.52708141],\n",
              "       [0.35189628, 0.64810372],\n",
              "       [0.31360299, 0.68639701],\n",
              "       [0.48046236, 0.51953764],\n",
              "       [0.40883013, 0.59116987],\n",
              "       [0.36291505, 0.63708495],\n",
              "       [0.35914717, 0.64085283],\n",
              "       [0.36384522, 0.63615478],\n",
              "       [0.29899368, 0.70100632],\n",
              "       [0.48321544, 0.51678456],\n",
              "       [0.4252869 , 0.5747131 ],\n",
              "       [0.43180714, 0.56819286],\n",
              "       [0.33985171, 0.66014829],\n",
              "       [0.38757491, 0.61242509],\n",
              "       [0.35190236, 0.64809764],\n",
              "       [0.37121349, 0.62878651],\n",
              "       [0.40186679, 0.59813321],\n",
              "       [0.32182893, 0.67817107],\n",
              "       [0.43155085, 0.56844915],\n",
              "       [0.32765496, 0.67234504],\n",
              "       [0.33175968, 0.66824032],\n",
              "       [0.40126152, 0.59873848],\n",
              "       [0.42422799, 0.57577201],\n",
              "       [0.40170881, 0.59829119],\n",
              "       [0.4042952 , 0.5957048 ],\n",
              "       [0.40529913, 0.59470087],\n",
              "       [0.37308456, 0.62691544],\n",
              "       [0.49987832, 0.50012168],\n",
              "       [0.43755931, 0.56244069],\n",
              "       [0.36275236, 0.63724764],\n",
              "       [0.38087396, 0.61912604],\n",
              "       [0.42100653, 0.57899347],\n",
              "       [0.41995321, 0.58004679],\n",
              "       [0.41743582, 0.58256418],\n",
              "       [0.41740882, 0.58259118],\n",
              "       [0.37053919, 0.62946081],\n",
              "       [0.34130418, 0.65869582],\n",
              "       [0.39413847, 0.60586153],\n",
              "       [0.3964123 , 0.6035877 ],\n",
              "       [0.35987266, 0.64012734],\n",
              "       [0.34638409, 0.65361591],\n",
              "       [0.30024922, 0.69975078],\n",
              "       [0.37600481, 0.62399519],\n",
              "       [0.42264845, 0.57735155],\n",
              "       [0.35931361, 0.64068639],\n",
              "       [0.43897656, 0.56102344],\n",
              "       [0.36306135, 0.63693865],\n",
              "       [0.41076519, 0.58923481],\n",
              "       [0.34385261, 0.65614739],\n",
              "       [0.36352406, 0.63647594],\n",
              "       [0.38416791, 0.61583209],\n",
              "       [0.38836831, 0.61163169],\n",
              "       [0.38788139, 0.61211861],\n",
              "       [0.39683076, 0.60316924],\n",
              "       [0.41582943, 0.58417057],\n",
              "       [0.34166364, 0.65833636],\n",
              "       [0.34977429, 0.65022571],\n",
              "       [0.36239873, 0.63760127],\n",
              "       [0.38840708, 0.61159292],\n",
              "       [0.34531174, 0.65468826],\n",
              "       [0.4656962 , 0.5343038 ],\n",
              "       [0.39503117, 0.60496883],\n",
              "       [0.31985155, 0.68014845],\n",
              "       [0.37124407, 0.62875593]])"
            ]
          },
          "metadata": {
            "tags": []
          },
          "execution_count": 20
        }
      ]
    },
    {
      "cell_type": "code",
      "metadata": {
        "id": "hFhXMxZKlKRK"
      },
      "source": [
        "logreg_pred = clf_logreg.predict(X_test)\n",
        "# tr=0.1\n",
        "# p_hat = model.predict_proba(X_test)[:,-1] \n",
        "# y_pred1 = 1*(p_hat > tr)\n"
      ],
      "execution_count": 21,
      "outputs": []
    },
    {
      "cell_type": "markdown",
      "metadata": {
        "id": "A6JbgxRQlKRK"
      },
      "source": [
        "# 3 Tree\r\n"
      ]
    },
    {
      "cell_type": "code",
      "metadata": {
        "colab": {
          "base_uri": "https://localhost:8080/"
        },
        "id": "25D2QY1hlKRK",
        "outputId": "430a5a96-085e-4a9d-c53e-fae98d5d0651"
      },
      "source": [
        "!pip install graphviz"
      ],
      "execution_count": 22,
      "outputs": [
        {
          "output_type": "stream",
          "text": [
            "Requirement already satisfied: graphviz in /usr/local/lib/python3.6/dist-packages (0.10.1)\n"
          ],
          "name": "stdout"
        }
      ]
    },
    {
      "cell_type": "code",
      "metadata": {
        "id": "NVm95bWWlKRL"
      },
      "source": [
        "from sklearn.model_selection import cross_val_score\n",
        "from sklearn.tree import DecisionTreeClassifier\n",
        "from sklearn.preprocessing import scale\n",
        "import graphviz\n",
        "from sklearn import tree\n",
        "import matplotlib.pyplot as plt\n",
        "\n"
      ],
      "execution_count": 24,
      "outputs": []
    },
    {
      "cell_type": "code",
      "metadata": {
        "colab": {
          "base_uri": "https://localhost:8080/"
        },
        "id": "dtDjeYxwlKRL",
        "outputId": "937249eb-ba7d-4dd3-a223-32d926ed5057"
      },
      "source": [
        "clf_tree = DecisionTreeClassifier(criterion=\"entropy\", max_depth=4)\n",
        "clf_tree.fit(X_train, y_train)"
      ],
      "execution_count": 25,
      "outputs": [
        {
          "output_type": "execute_result",
          "data": {
            "text/plain": [
              "DecisionTreeClassifier(ccp_alpha=0.0, class_weight=None, criterion='entropy',\n",
              "                       max_depth=4, max_features=None, max_leaf_nodes=None,\n",
              "                       min_impurity_decrease=0.0, min_impurity_split=None,\n",
              "                       min_samples_leaf=1, min_samples_split=2,\n",
              "                       min_weight_fraction_leaf=0.0, presort='deprecated',\n",
              "                       random_state=None, splitter='best')"
            ]
          },
          "metadata": {
            "tags": []
          },
          "execution_count": 25
        }
      ]
    },
    {
      "cell_type": "code",
      "metadata": {
        "collapsed": true,
        "colab": {
          "base_uri": "https://localhost:8080/",
          "height": 302
        },
        "id": "wtaHM5q8lKRL",
        "outputId": "6cbded52-8c1b-412d-ed77-73489a7dbfbd"
      },
      "source": [
        "from sklearn.tree import plot_tree\n",
        "plt.figure(figsize=(15,5))\n",
        "plot_tree(clf_tree);"
      ],
      "execution_count": 26,
      "outputs": [
        {
          "output_type": "display_data",
          "data": {
            "image/png": "[encoded data removed]",
            "text/plain": [
              "<Figure size 1080x360 with 1 Axes>"
            ]
          },
          "metadata": {
            "tags": [],
            "needs_background": "light"
          }
        }
      ]
    },
    {
      "cell_type": "markdown",
      "metadata": {
        "id": "XjzDt26NlKRM"
      },
      "source": [
        "# 4 Forest"
      ]
    },
    {
      "cell_type": "code",
      "metadata": {
        "id": "i5jeE9PQlKRM"
      },
      "source": [
        "from sklearn.ensemble import RandomForestClassifier\n",
        "from sklearn.model_selection import GridSearchCV"
      ],
      "execution_count": 27,
      "outputs": []
    },
    {
      "cell_type": "code",
      "metadata": {
        "id": "Wm8yPsMulKRM"
      },
      "source": [
        "# parameters = {\n",
        "#     'criterion':['gini', 'entrioy'],\n",
        "#     'n_estimators':[4, 6, 8, 10, 15, 20, 30],\n",
        "#     'min_samples_leaf': [1, 2, 3, 5, 7, 10], \n",
        "#     'max_depth':[2, 3, 4, 5, 8, 20, 35, 100], \n",
        "#     'max_features':[3, 5, 10, \"sqrt\", 'log', None]\n",
        "# }\n",
        "\n",
        "# clf_forest = RandomForestClassifier()\n",
        "\n",
        "# clf_grid = GridSearchCV(\n",
        "#     estimator=clf_forest, \n",
        "#     param_grid=parameters, \n",
        "#     scoring='roc_auc', \n",
        "#     cv=5, \n",
        "#     n_jobs=-1\n",
        "# )\n",
        "\n",
        "# clf_grid.fit(X_train, y_train)\n",
        "# print('Лучший результат:', clf_grid.best_score_)\n",
        "# print('Лучшие параметры:', clf_grid.best_params_)"
      ],
      "execution_count": 28,
      "outputs": []
    },
    {
      "cell_type": "markdown",
      "metadata": {
        "id": "_hKZlIllztd3"
      },
      "source": [
        "Лучший результат: 0.5596259631173425\r\n",
        "Лучшие параметры: {'criterion': 'gini', 'max_depth': 5, 'max_features': 'sqrt', 'min_samples_leaf': 3, 'n_estimators': 6}\r\n"
      ]
    },
    {
      "cell_type": "code",
      "metadata": {
        "colab": {
          "base_uri": "https://localhost:8080/"
        },
        "id": "jW2xaGTLlKRN",
        "outputId": "a135d373-d559-4574-b2d4-c750b6b726c9"
      },
      "source": [
        "clf_forest = RandomForestClassifier(criterion='gini', max_depth=5, max_features='sqrt', min_samples_leaf=3, n_estimators=6)\r\n",
        "clf_forest.fit(X_train, y_train) "
      ],
      "execution_count": 29,
      "outputs": [
        {
          "output_type": "execute_result",
          "data": {
            "text/plain": [
              "RandomForestClassifier(bootstrap=True, ccp_alpha=0.0, class_weight=None,\n",
              "                       criterion='gini', max_depth=5, max_features='sqrt',\n",
              "                       max_leaf_nodes=None, max_samples=None,\n",
              "                       min_impurity_decrease=0.0, min_impurity_split=None,\n",
              "                       min_samples_leaf=3, min_samples_split=2,\n",
              "                       min_weight_fraction_leaf=0.0, n_estimators=6,\n",
              "                       n_jobs=None, oob_score=False, random_state=None,\n",
              "                       verbose=0, warm_start=False)"
            ]
          },
          "metadata": {
            "tags": []
          },
          "execution_count": 29
        }
      ]
    },
    {
      "cell_type": "code",
      "metadata": {
        "colab": {
          "base_uri": "https://localhost:8080/"
        },
        "id": "2hgnKxWs0L0H",
        "outputId": "ae203b92-605a-4e8f-f9f4-245abb032f2d"
      },
      "source": [
        "feats = []\r\n",
        "for feat, imp in zip(X.columns, clf_forest.feature_importances_):\r\n",
        "    feats.append((imp, feat))\r\n",
        "feats.sort()\r\n",
        "feats"
      ],
      "execution_count": 30,
      "outputs": [
        {
          "output_type": "execute_result",
          "data": {
            "text/plain": [
              "[(0.0, 'YearsInCurrentRole'),\n",
              " (0.0018174338770595652, 'StockOptionLevel'),\n",
              " (0.002964607817903421, 'JobLevel'),\n",
              " (0.0055541238837995815, 'Attrition'),\n",
              " (0.00683923399614401, 'Department'),\n",
              " (0.007271088016982974, 'PerformanceRating'),\n",
              " (0.008476588626528992, 'YearsWithCurrManager'),\n",
              " (0.00977803043000386, 'YearsSinceLastPromotion'),\n",
              " (0.012553742883563238, 'BusinessTravel'),\n",
              " (0.01313385866892786, 'EducationField'),\n",
              " (0.013664962810730593, 'RelationshipSatisfaction'),\n",
              " (0.013955795136728536, 'OverTime'),\n",
              " (0.015145332194476313, 'JobInvolvement'),\n",
              " (0.01610588067705002, 'TrainingTimesLastYear'),\n",
              " (0.01659466181356025, 'Gender'),\n",
              " (0.02521910736405224, 'WorkLifeBalance'),\n",
              " (0.026316511315905008, 'MaritalStatus'),\n",
              " (0.03120383448072509, 'EnvironmentSatisfaction'),\n",
              " (0.036182573868137, 'YearsAtCompany'),\n",
              " (0.038511123347390125, 'JobRole'),\n",
              " (0.03990256641761562, 'Age'),\n",
              " (0.04040289385727899, 'Education'),\n",
              " (0.047946523193995595, 'DistanceFromHome'),\n",
              " (0.05244870745177656, 'MonthlyIncome'),\n",
              " (0.05250286613777858, 'NumCompaniesWorked'),\n",
              " (0.05323360245125512, 'HourlyRate'),\n",
              " (0.05858088979471575, 'PercentSalaryHike'),\n",
              " (0.062058451100106146, 'EmployeeNumber'),\n",
              " (0.07320304749450693, 'TotalWorkingYears'),\n",
              " (0.09715990819674732, 'MonthlyRate'),\n",
              " (0.12127205269455489, 'DailyRate')]"
            ]
          },
          "metadata": {
            "tags": []
          },
          "execution_count": 30
        }
      ]
    },
    {
      "cell_type": "markdown",
      "metadata": {
        "id": "qFt373O7lKRN"
      },
      "source": [
        "\n",
        "\n",
        "# 5 Сhoosing the best"
      ]
    },
    {
      "cell_type": "code",
      "metadata": {
        "id": "pSDKWDN00wvK"
      },
      "source": [
        "from sklearn.metrics import roc_curve,  plot_roc_curve, confusion_matrix, recall_score, precision_score, accuracy_score\r\n"
      ],
      "execution_count": 31,
      "outputs": []
    },
    {
      "cell_type": "code",
      "metadata": {
        "id": "Fd3mgvS7lKRN"
      },
      "source": [
        "# Постоянный указатель на единицу\n",
        "y_one = np.ones_like(y_test)\n",
        "fpr1, tpr1, _ = roc_curve(y_test, y_one)\n",
        "# Рандомный \n",
        "y_rand = np.random.choice([0,1], replace=True, size=y_test.size)\n",
        "fprr, tprr, _ = roc_curve(y_test, y_rand)\n"
      ],
      "execution_count": 32,
      "outputs": []
    },
    {
      "cell_type": "code",
      "metadata": {
        "colab": {
          "base_uri": "https://localhost:8080/",
          "height": 1000
        },
        "id": "CyAgvILblKRO",
        "outputId": "7b20337e-5402-47e1-e37f-6a0cfdf01416"
      },
      "source": [
        "plt.plot(fpr1, tpr1) \n",
        "plt.plot(fprr, tprr)\n",
        "ax = plt.gca()\n",
        "p1 = plot_roc_curve(clf_logreg, X_test, y_test);\n",
        "p2 = plot_roc_curve(clf_tree, X_test, y_test);\n",
        "p3 = plot_roc_curve(clf_forest, X_test, y_test);\n",
        " \n",
        "\n",
        "p1.plot(ax=ax, alpha=0.8)\n",
        "p2.plot(ax=ax, alpha=0.8)\n",
        "p3.plot(ax=ax, alpha=0.8)\n",
        "\n",
        "\n",
        "plt.show()\n",
        "\n",
        "# # plt.xlabel('')\n",
        "# plt.ylabel('4')"
      ],
      "execution_count": 33,
      "outputs": [
        {
          "output_type": "display_data",
          "data": {
            "image/png": "[encoded data removed]",
            "text/plain": [
              "<Figure size 432x288 with 1 Axes>"
            ]
          },
          "metadata": {
            "tags": [],
            "needs_background": "light"
          }
        },
        {
          "output_type": "display_data",
          "data": {
            "image/png": "[encoded data removed]",
            "text/plain": [
              "<Figure size 432x288 with 1 Axes>"
            ]
          },
          "metadata": {
            "tags": [],
            "needs_background": "light"
          }
        },
        {
          "output_type": "display_data",
          "data": {
            "image/png": "[encoded data removed]",
            "text/plain": [
              "<Figure size 432x288 with 1 Axes>"
            ]
          },
          "metadata": {
            "tags": [],
            "needs_background": "light"
          }
        },
        {
          "output_type": "display_data",
          "data": {
            "image/png": "[encoded data removed]",
            "text/plain": [
              "<Figure size 432x288 with 1 Axes>"
            ]
          },
          "metadata": {
            "tags": [],
            "needs_background": "light"
          }
        }
      ]
    },
    {
      "cell_type": "markdown",
      "metadata": {
        "id": "QKjxRjXFFt9Y"
      },
      "source": [
        "Модель с лучшим показателем AUC(0,53) - лес"
      ]
    },
    {
      "cell_type": "code",
      "metadata": {
        "colab": {
          "base_uri": "https://localhost:8080/"
        },
        "id": "5UMG5sv_lKRP",
        "outputId": "8895a1e0-6756-4a84-ed6c-6ae38fd8e2fb"
      },
      "source": [
        "y_pred = clf_forest.predict(X_test)\n",
        "print('Матрица ошибок')\n",
        "confusion_matrix(y_pred, y_test)"
      ],
      "execution_count": 34,
      "outputs": [
        {
          "output_type": "stream",
          "text": [
            "Матрица ошибок\n"
          ],
          "name": "stdout"
        },
        {
          "output_type": "execute_result",
          "data": {
            "text/plain": [
              "array([[  6,  12],\n",
              "       [108, 168]])"
            ]
          },
          "metadata": {
            "tags": []
          },
          "execution_count": 34
        }
      ]
    },
    {
      "cell_type": "code",
      "metadata": {
        "colab": {
          "base_uri": "https://localhost:8080/"
        },
        "id": "F27ShiY7lKRP",
        "outputId": "6e400455-90dc-4c23-f6e1-e9c183988525"
      },
      "source": [
        "accuracy = accuracy_score(y_test, y_pred)\n",
        "recall = recall_score(y_test, y_pred)\n",
        "precision = precision_score(y_test, y_pred)\n",
        "print('Recall:', recall, 'Precision:', precision, 'Accuracy', accuracy)"
      ],
      "execution_count": 35,
      "outputs": [
        {
          "output_type": "stream",
          "text": [
            "Recall: 0.9333333333333333 Precision: 0.6086956521739131 Accuracy 0.5918367346938775\n"
          ],
          "name": "stdout"
        }
      ]
    },
    {
      "cell_type": "code",
      "metadata": {
        "id": "-KCcwRtClKRQ"
      },
      "source": [
        "\n",
        "\n",
        "# YearsSinceLastPro разбить на два значения"
      ],
      "execution_count": 36,
      "outputs": []
    },
    {
      "cell_type": "code",
      "metadata": {
        "id": "-cuyipXmlKRR"
      },
      "source": [
        ""
      ],
      "execution_count": 36,
      "outputs": []
    }
  ]
}